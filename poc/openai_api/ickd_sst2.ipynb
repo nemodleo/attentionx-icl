{
 "cells": [
  {
   "cell_type": "code",
   "execution_count": 2,
   "metadata": {},
   "outputs": [
    {
     "name": "stderr",
     "output_type": "stream",
     "text": [
      "/home/alan-k/.miniconda3/envs/common/lib/python3.11/site-packages/tqdm/auto.py:21: TqdmWarning: IProgress not found. Please update jupyter and ipywidgets. See https://ipywidgets.readthedocs.io/en/stable/user_install.html\n",
      "  from .autonotebook import tqdm as notebook_tqdm\n"
     ]
    }
   ],
   "source": [
    "import os\n",
    "import csv\n",
    "\n",
    "import openai\n",
    "import numpy as np\n",
    "from tqdm import tqdm\n",
    "from datasets import load_dataset\n",
    "\n",
    "openai.api_key = os.environ.get(\"OPENAI_API_KEY\")"
   ]
  },
  {
   "cell_type": "code",
   "execution_count": 4,
   "metadata": {},
   "outputs": [
    {
     "data": {
      "text/plain": [
       "DatasetDict({\n",
       "    train: Dataset({\n",
       "        features: ['sentence', 'label', 'idx'],\n",
       "        num_rows: 67349\n",
       "    })\n",
       "    validation: Dataset({\n",
       "        features: ['sentence', 'label', 'idx'],\n",
       "        num_rows: 872\n",
       "    })\n",
       "    test: Dataset({\n",
       "        features: ['sentence', 'label', 'idx'],\n",
       "        num_rows: 1821\n",
       "    })\n",
       "})"
      ]
     },
     "execution_count": 4,
     "metadata": {},
     "output_type": "execute_result"
    }
   ],
   "source": [
    "dataset = load_dataset('glue', 'sst2')\n",
    "dataset"
   ]
  },
  {
   "cell_type": "code",
   "execution_count": 5,
   "metadata": {},
   "outputs": [
    {
     "data": {
      "text/plain": [
       "{'sentence': 'contains no wit , only labored gags ', 'label': 0, 'idx': 1}"
      ]
     },
     "execution_count": 5,
     "metadata": {},
     "output_type": "execute_result"
    }
   ],
   "source": [
    "dataset['train'][1]"
   ]
  },
  {
   "cell_type": "code",
   "execution_count": 71,
   "metadata": {},
   "outputs": [
    {
     "data": {
      "text/plain": [
       "(0.921758289743126, 0.07824171025687399)"
      ]
     },
     "execution_count": 71,
     "metadata": {},
     "output_type": "execute_result"
    }
   ],
   "source": [
    "PROMPT = \"\"\"\n",
    "Classify the sentiment of the sentence into two classes: positive or negative.\n",
    "Consider the overall tone and specific words used in the sentence.\n",
    "\n",
    "Example1)\n",
    "Sentence: A warm, funny, engaging film.\n",
    "Sentiment: positive\n",
    "\n",
    "Example2)\n",
    "Sentence: A three-hour cinema master class.\n",
    "Sentiment: negative\n",
    "\n",
    "Example3)\n",
    "Sentence: An utterly unconvincing plot.\n",
    "Sentiment: negative\n",
    "\n",
    "Example4)\n",
    "Sentence: Brilliantly crafted and remarkably insightful.\n",
    "Sentiment: positive\n",
    "\n",
    "Consider the following sentence and classify its sentiment. Think about what words or phrases in the sentence guide your decision:\n",
    "\n",
    "Sentence: {sentence}\n",
    "Sentiment: \n",
    "\"\"\".strip()\n",
    "\n",
    "\n",
    "def get_probs(sentence):\n",
    "    try:\n",
    "        messages = [\n",
    "            {\n",
    "                \"role\": \"system\",\n",
    "                \"content\": \"You are an helpful assistant.\"\n",
    "            },\n",
    "            {\n",
    "                \"role\": \"user\",\n",
    "                \"content\": PROMPT.format(sentence=sentence)\n",
    "            }\n",
    "        ]\n",
    "        response = openai.ChatCompletion.create(\n",
    "            model=\"gpt-4-turbo-preview\",\n",
    "            messages=messages,\n",
    "            max_tokens=8,\n",
    "            logprobs=True,\n",
    "            top_logprobs=5,\n",
    "            n=1,\n",
    "            stop=None,\n",
    "        )\n",
    "        \n",
    "        # print(\"content:\", response[\"choices\"][0][\"message\"][\"content\"])\n",
    "        # print(\"logprobs:\", response[\"choices\"][0][\"logprobs\"][\"content\"][0][\"logprob\"])\n",
    "        # print(\"top_logprobs:\", response[\"choices\"][0][\"logprobs\"][\"content\"][0][\"top_logprobs\"])\n",
    "\n",
    "        token_prob_dict = {}\n",
    "        for top_logprob in response[\"choices\"][0][\"logprobs\"][\"content\"][0][\"top_logprobs\"]:\n",
    "            token = top_logprob[\"token\"].lower().strip()\n",
    "            logprob = top_logprob[\"logprob\"]\n",
    "            if token not in token_prob_dict:\n",
    "                token_prob_dict[token] = np.exp(logprob)\n",
    "            else:\n",
    "                token_prob_dict[token] += np.exp(logprob)\n",
    "\n",
    "        prob_positive = token_prob_dict.get('positive', None)\n",
    "        prob_negative = token_prob_dict.get('negative', None)\n",
    "\n",
    "        if prob_negative is None and prob_positive is not None:\n",
    "            prob_negative = 1 - prob_positive\n",
    "        elif prob_negative is not None and prob_positive is None:\n",
    "            prob_positive = 1 - prob_negative\n",
    "        else:\n",
    "            prob_positive = 0.5\n",
    "            prob_negative = 0.5\n",
    "\n",
    "        return prob_positive, prob_negative\n",
    "    except Exception as e:\n",
    "        print(f\"Error processing sentence: {sentence}. Error: {e}\")\n",
    "        return None, None\n",
    "    \n",
    "\n",
    "prob_positive, prob_negative = get_probs(\"great movie\")\n",
    "prob_positive, prob_negative"
   ]
  },
  {
   "cell_type": "code",
   "execution_count": 72,
   "metadata": {},
   "outputs": [
    {
     "name": "stderr",
     "output_type": "stream",
     "text": [
      "  0%|          | 100/67349 [02:25<27:06:32,  1.45s/it]\n"
     ]
    }
   ],
   "source": [
    "max_num = 100\n",
    "\n",
    "with open('ickd_sst2_probs_n100.csv', 'w', newline='', encoding='utf-8') as file:\n",
    "    writer = csv.writer(file)\n",
    "    writer.writerow([\"index\", \"sentence\", \"label\", \"positive_prob\", \"negative_prob\"])\n",
    "\n",
    "    for i, instance in enumerate(tqdm(dataset['train'])):\n",
    "        if i >= max_num:\n",
    "            break\n",
    "        index = instance['idx']\n",
    "        sentence = instance['sentence']\n",
    "        label = instance['label']\n",
    "        prob_positive, prob_negative = get_probs(sentence)\n",
    "        writer.writerow([index, sentence, label, prob_positive, prob_negative])"
   ]
  }
 ],
 "metadata": {
  "kernelspec": {
   "display_name": "common",
   "language": "python",
   "name": "python3"
  },
  "language_info": {
   "codemirror_mode": {
    "name": "ipython",
    "version": 3
   },
   "file_extension": ".py",
   "mimetype": "text/x-python",
   "name": "python",
   "nbconvert_exporter": "python",
   "pygments_lexer": "ipython3",
   "version": "3.11.5"
  }
 },
 "nbformat": 4,
 "nbformat_minor": 2
}
