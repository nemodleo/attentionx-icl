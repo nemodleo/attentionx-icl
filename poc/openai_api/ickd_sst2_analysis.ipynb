{
 "cells": [
  {
   "cell_type": "code",
   "execution_count": 2,
   "metadata": {},
   "outputs": [],
   "source": [
    "import numpy as np\n",
    "import pandas as pd"
   ]
  },
  {
   "cell_type": "code",
   "execution_count": 3,
   "metadata": {},
   "outputs": [
    {
     "data": {
      "text/html": [
       "<div>\n",
       "<style scoped>\n",
       "    .dataframe tbody tr th:only-of-type {\n",
       "        vertical-align: middle;\n",
       "    }\n",
       "\n",
       "    .dataframe tbody tr th {\n",
       "        vertical-align: top;\n",
       "    }\n",
       "\n",
       "    .dataframe thead th {\n",
       "        text-align: right;\n",
       "    }\n",
       "</style>\n",
       "<table border=\"1\" class=\"dataframe\">\n",
       "  <thead>\n",
       "    <tr style=\"text-align: right;\">\n",
       "      <th></th>\n",
       "      <th>index</th>\n",
       "      <th>sentence</th>\n",
       "      <th>label</th>\n",
       "      <th>positive_prob</th>\n",
       "      <th>negative_prob</th>\n",
       "    </tr>\n",
       "  </thead>\n",
       "  <tbody>\n",
       "    <tr>\n",
       "      <th>0</th>\n",
       "      <td>0</td>\n",
       "      <td>hide new secretions from the parental units</td>\n",
       "      <td>0</td>\n",
       "      <td>0.001140</td>\n",
       "      <td>0.998400</td>\n",
       "    </tr>\n",
       "    <tr>\n",
       "      <th>1</th>\n",
       "      <td>1</td>\n",
       "      <td>contains no wit , only labored gags</td>\n",
       "      <td>0</td>\n",
       "      <td>-1.000000</td>\n",
       "      <td>0.994419</td>\n",
       "    </tr>\n",
       "    <tr>\n",
       "      <th>2</th>\n",
       "      <td>2</td>\n",
       "      <td>that loves its characters and communicates som...</td>\n",
       "      <td>1</td>\n",
       "      <td>0.999983</td>\n",
       "      <td>0.000013</td>\n",
       "    </tr>\n",
       "    <tr>\n",
       "      <th>3</th>\n",
       "      <td>3</td>\n",
       "      <td>remains utterly satisfied to remain the same t...</td>\n",
       "      <td>0</td>\n",
       "      <td>0.016052</td>\n",
       "      <td>0.982627</td>\n",
       "    </tr>\n",
       "    <tr>\n",
       "      <th>4</th>\n",
       "      <td>4</td>\n",
       "      <td>on the worst revenge-of-the-nerds clichés the ...</td>\n",
       "      <td>0</td>\n",
       "      <td>0.000070</td>\n",
       "      <td>0.999721</td>\n",
       "    </tr>\n",
       "  </tbody>\n",
       "</table>\n",
       "</div>"
      ],
      "text/plain": [
       "   index                                           sentence  label  \\\n",
       "0      0       hide new secretions from the parental units       0   \n",
       "1      1               contains no wit , only labored gags       0   \n",
       "2      2  that loves its characters and communicates som...      1   \n",
       "3      3  remains utterly satisfied to remain the same t...      0   \n",
       "4      4  on the worst revenge-of-the-nerds clichés the ...      0   \n",
       "\n",
       "   positive_prob  negative_prob  \n",
       "0       0.001140       0.998400  \n",
       "1      -1.000000       0.994419  \n",
       "2       0.999983       0.000013  \n",
       "3       0.016052       0.982627  \n",
       "4       0.000070       0.999721  "
      ]
     },
     "execution_count": 3,
     "metadata": {},
     "output_type": "execute_result"
    }
   ],
   "source": [
    "data_path = \"/home/alan-k/workspace/fork/openai-api/attentionx-icl/poc/openai_api/ickd__gpt-3-5-turbo__sst2___n67349_s0_e67349.csv\"\n",
    "df = pd.read_csv(data_path)\n",
    "df.head()"
   ]
  },
  {
   "cell_type": "code",
   "execution_count": 4,
   "metadata": {},
   "outputs": [
    {
     "name": "stdout",
     "output_type": "stream",
     "text": [
      "total: 67349\n",
      "positive null: 0.12 (8182/67349)\n",
      "negative null: 0.01 (887/67349)\n",
      "both null: 0.01 (397/67349)\n",
      "not null: 0.86 (57883/67349)\n"
     ]
    }
   ],
   "source": [
    "pos_null_df = df[(df[\"positive_prob\"] == -1) & (df[\"negative_prob\"] != -1)]\n",
    "neg_null_df = df[(df[\"positive_prob\"] != -1) & (df[\"negative_prob\"] == -1)]\n",
    "both_null_df = df[(df[\"positive_prob\"] == -1) & (df[\"negative_prob\"] == -1)]\n",
    "not_null_df = df[(df[\"positive_prob\"] != -1) & (df[\"negative_prob\"] != -1)]\n",
    "\n",
    "print(f\"total: {len(df)}\")\n",
    "print(f\"positive null: {len(pos_null_df) / len(df):.2f} ({len(pos_null_df)}/{len(df)})\")\n",
    "print(f\"negative null: {len(neg_null_df) / len(df):.2f} ({len(neg_null_df)}/{len(df)})\")\n",
    "print(f\"both null: {len(both_null_df) / len(df):.2f} ({len(both_null_df)}/{len(df)})\")\n",
    "print(f\"not null: {len(not_null_df) / len(df):.2f} ({len(not_null_df)}/{len(df)})\")"
   ]
  },
  {
   "cell_type": "code",
   "execution_count": 12,
   "metadata": {},
   "outputs": [
    {
     "name": "stdout",
     "output_type": "stream",
     "text": [
      "cleaned: 0.86 (57883/67349)\n"
     ]
    }
   ],
   "source": [
    "cleaned_df = not_null_df\n",
    "\n",
    "print(f\"cleaned: {len(cleaned_df) / len(df):.2f} ({len(cleaned_df)}/{len(df)})\")"
   ]
  },
  {
   "cell_type": "code",
   "execution_count": 5,
   "metadata": {},
   "outputs": [
    {
     "name": "stdout",
     "output_type": "stream",
     "text": [
      "imputed: 0.99 (66952/67349)\n"
     ]
    }
   ],
   "source": [
    "imputed_df = df[(df[\"positive_prob\"] != -1) | (df[\"negative_prob\"] != -1)]\n",
    "for i, row in imputed_df.iterrows():\n",
    "    if row[\"positive_prob\"] == -1:\n",
    "        imputed_df.at[i, \"positive_prob\"] = 1 - row[\"negative_prob\"]\n",
    "    elif row[\"negative_prob\"] == -1:\n",
    "        imputed_df.at[i, \"negative_prob\"] = 1 - row[\"positive_prob\"]\n",
    "\n",
    "print(f\"imputed: {len(imputed_df) / len(df):.2f} ({len(imputed_df)}/{len(df)})\")"
   ]
  },
  {
   "cell_type": "code",
   "execution_count": 9,
   "metadata": {},
   "outputs": [],
   "source": [
    "def calculate_accuracy(df):\n",
    "    prob = df[\"positive_prob\"]\n",
    "    pred = (prob > 0.5).astype(int)\n",
    "    label = df[\"label\"]\n",
    "    return np.mean(pred == label)\n",
    "\n",
    "def calculate_precision(df):\n",
    "    prob = df[\"positive_prob\"]\n",
    "    pred = (prob > 0.5).astype(int)\n",
    "    label = df[\"label\"]\n",
    "    tp = np.sum(pred & label)\n",
    "    fp = np.sum(pred & ~label)\n",
    "    return tp / (tp + fp)\n",
    "\n",
    "def calculate_recall(df):\n",
    "    prob = df[\"positive_prob\"]\n",
    "    pred = (prob > 0.5).astype(int)\n",
    "    label = df[\"label\"]\n",
    "    tp = np.sum(pred & label)\n",
    "    fn = np.sum(~pred & label)\n",
    "    return tp / (tp + fn)\n",
    "\n",
    "\n",
    "def print_metrics(df):\n",
    "    print(f\"accuracy: {calculate_accuracy(df):.2f}\")\n",
    "    print(f\"precision: {calculate_precision(df):.2f}\")\n",
    "    print(f\"recall: {calculate_recall(df):.2f}\")"
   ]
  },
  {
   "cell_type": "code",
   "execution_count": 10,
   "metadata": {},
   "outputs": [
    {
     "name": "stdout",
     "output_type": "stream",
     "text": [
      "accuracy: 0.93\n",
      "precision: 0.97\n",
      "recall: 0.91\n"
     ]
    }
   ],
   "source": [
    "print_metrics(cleaned_df)"
   ]
  },
  {
   "cell_type": "code",
   "execution_count": 11,
   "metadata": {},
   "outputs": [
    {
     "name": "stdout",
     "output_type": "stream",
     "text": [
      "accuracy: 0.93\n",
      "precision: 0.97\n",
      "recall: 0.90\n"
     ]
    }
   ],
   "source": [
    "print_metrics(imputed_df)"
   ]
  }
 ],
 "metadata": {
  "kernelspec": {
   "display_name": "common",
   "language": "python",
   "name": "python3"
  },
  "language_info": {
   "codemirror_mode": {
    "name": "ipython",
    "version": 3
   },
   "file_extension": ".py",
   "mimetype": "text/x-python",
   "name": "python",
   "nbconvert_exporter": "python",
   "pygments_lexer": "ipython3",
   "version": "3.11.5"
  }
 },
 "nbformat": 4,
 "nbformat_minor": 2
}
