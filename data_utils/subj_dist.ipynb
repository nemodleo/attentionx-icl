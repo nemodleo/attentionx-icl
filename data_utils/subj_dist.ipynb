{
 "cells": [
  {
   "cell_type": "code",
   "execution_count": 3,
   "metadata": {},
   "outputs": [],
   "source": [
    "import json\n",
    "import pandas as pd\n",
    "import matplotlib.pyplot as plt\n",
    "import numpy as np\n",
    "\n",
    "with open('../data/subj/train_new_subj.jsonl') as f:\n",
    "    df = pd.read_json(f, lines=True)"
   ]
  },
  {
   "cell_type": "code",
   "execution_count": 7,
   "metadata": {},
   "outputs": [
    {
     "data": {
      "text/plain": [
       "0.9855714285714285"
      ]
     },
     "execution_count": 7,
     "metadata": {},
     "output_type": "execute_result"
    }
   ],
   "source": [
    "# larger value among 0 and 1 becomes pseudo_gt\n",
    "df['pseudo_gt'] = df[[\"0\",\"1\"]].idxmax(axis=1)\n",
    "df['pseudo_gt'] = df['pseudo_gt'].astype(int)\n",
    "\n",
    "# accuracy: corrrect if pseudo_gt == label\n",
    "sum((df['pseudo_gt'] == df['label']))/len(df)\n"
   ]
  },
  {
   "cell_type": "code",
   "execution_count": 37,
   "metadata": {},
   "outputs": [
    {
     "name": "stdout",
     "output_type": "stream",
     "text": [
      "AxesSubplot(0.125,0.125;0.775x0.755)\n",
      "AxesSubplot(0.125,0.125;0.775x0.755)\n"
     ]
    },
    {
     "data": {
      "image/png": "[encoded data removed]",
      "text/plain": [
       "<Figure size 432x288 with 1 Axes>"
      ]
     },
     "metadata": {
      "needs_background": "light"
     },
     "output_type": "display_data"
    }
   ],
   "source": [
    "# overrall distribution of label 0 and 1 probabilities\n",
    "print(df['0'].hist(bins=50, alpha=0.7))\n",
    "print(df['1'].hist(bins=50, alpha=0.7))\n",
    "import matplotlib.pyplot as plt\n",
    "plt.legend(['0:subjective','1:objective'])\n",
    "plt.title(\"Distribution of Probabilities\")\n",
    "plt.show()\n"
   ]
  },
  {
   "cell_type": "code",
   "execution_count": 9,
   "metadata": {},
   "outputs": [
    {
     "data": {
      "text/html": [
       "<div>\n",
       "<style scoped>\n",
       "    .dataframe tbody tr th:only-of-type {\n",
       "        vertical-align: middle;\n",
       "    }\n",
       "\n",
       "    .dataframe tbody tr th {\n",
       "        vertical-align: top;\n",
       "    }\n",
       "\n",
       "    .dataframe thead th {\n",
       "        text-align: right;\n",
       "    }\n",
       "</style>\n",
       "<table border=\"1\" class=\"dataframe\">\n",
       "  <thead>\n",
       "    <tr style=\"text-align: right;\">\n",
       "      <th></th>\n",
       "      <th>text</th>\n",
       "      <th>label</th>\n",
       "      <th>label_text</th>\n",
       "      <th>0</th>\n",
       "      <th>1</th>\n",
       "      <th>pseudo_gt</th>\n",
       "    </tr>\n",
       "  </thead>\n",
       "  <tbody>\n",
       "    <tr>\n",
       "      <th>29</th>\n",
       "      <td>the only way around this is using illegal simu...</td>\n",
       "      <td>1</td>\n",
       "      <td>objective</td>\n",
       "      <td>0.502284</td>\n",
       "      <td>0.497716</td>\n",
       "      <td>0</td>\n",
       "    </tr>\n",
       "    <tr>\n",
       "      <th>42</th>\n",
       "      <td>primarily , the audience is wealthy , bored ex...</td>\n",
       "      <td>1</td>\n",
       "      <td>objective</td>\n",
       "      <td>0.502572</td>\n",
       "      <td>0.497428</td>\n",
       "      <td>0</td>\n",
       "    </tr>\n",
       "    <tr>\n",
       "      <th>61</th>\n",
       "      <td>she can't get in there because te door is lock...</td>\n",
       "      <td>1</td>\n",
       "      <td>objective</td>\n",
       "      <td>0.500048</td>\n",
       "      <td>0.499952</td>\n",
       "      <td>0</td>\n",
       "    </tr>\n",
       "    <tr>\n",
       "      <th>172</th>\n",
       "      <td>just when it seems martha's influence may be h...</td>\n",
       "      <td>1</td>\n",
       "      <td>objective</td>\n",
       "      <td>0.500368</td>\n",
       "      <td>0.499632</td>\n",
       "      <td>0</td>\n",
       "    </tr>\n",
       "    <tr>\n",
       "      <th>490</th>\n",
       "      <td>if you act in an inverse way , you will not ha...</td>\n",
       "      <td>1</td>\n",
       "      <td>objective</td>\n",
       "      <td>0.502438</td>\n",
       "      <td>0.497562</td>\n",
       "      <td>0</td>\n",
       "    </tr>\n",
       "    <tr>\n",
       "      <th>...</th>\n",
       "      <td>...</td>\n",
       "      <td>...</td>\n",
       "      <td>...</td>\n",
       "      <td>...</td>\n",
       "      <td>...</td>\n",
       "      <td>...</td>\n",
       "    </tr>\n",
       "    <tr>\n",
       "      <th>6770</th>\n",
       "      <td>he also tells him that they are not gems .</td>\n",
       "      <td>1</td>\n",
       "      <td>objective</td>\n",
       "      <td>0.505710</td>\n",
       "      <td>0.494290</td>\n",
       "      <td>0</td>\n",
       "    </tr>\n",
       "    <tr>\n",
       "      <th>6820</th>\n",
       "      <td>although he has feelings on the inside , he is...</td>\n",
       "      <td>1</td>\n",
       "      <td>objective</td>\n",
       "      <td>0.502426</td>\n",
       "      <td>0.497574</td>\n",
       "      <td>0</td>\n",
       "    </tr>\n",
       "    <tr>\n",
       "      <th>6830</th>\n",
       "      <td>he supports her completely , particularly as s...</td>\n",
       "      <td>1</td>\n",
       "      <td>objective</td>\n",
       "      <td>0.502331</td>\n",
       "      <td>0.497669</td>\n",
       "      <td>0</td>\n",
       "    </tr>\n",
       "    <tr>\n",
       "      <th>6865</th>\n",
       "      <td>in his own mental state , he sees his wife ali...</td>\n",
       "      <td>1</td>\n",
       "      <td>objective</td>\n",
       "      <td>0.505557</td>\n",
       "      <td>0.494443</td>\n",
       "      <td>0</td>\n",
       "    </tr>\n",
       "    <tr>\n",
       "      <th>6931</th>\n",
       "      <td>\" what's more important your experiences or yo...</td>\n",
       "      <td>1</td>\n",
       "      <td>objective</td>\n",
       "      <td>0.501310</td>\n",
       "      <td>0.498690</td>\n",
       "      <td>0</td>\n",
       "    </tr>\n",
       "  </tbody>\n",
       "</table>\n",
       "<p>101 rows × 6 columns</p>\n",
       "</div>"
      ],
      "text/plain": [
       "                                                   text  label label_text  \\\n",
       "29    the only way around this is using illegal simu...      1  objective   \n",
       "42    primarily , the audience is wealthy , bored ex...      1  objective   \n",
       "61    she can't get in there because te door is lock...      1  objective   \n",
       "172   just when it seems martha's influence may be h...      1  objective   \n",
       "490   if you act in an inverse way , you will not ha...      1  objective   \n",
       "...                                                 ...    ...        ...   \n",
       "6770         he also tells him that they are not gems .      1  objective   \n",
       "6820  although he has feelings on the inside , he is...      1  objective   \n",
       "6830  he supports her completely , particularly as s...      1  objective   \n",
       "6865  in his own mental state , he sees his wife ali...      1  objective   \n",
       "6931  \" what's more important your experiences or yo...      1  objective   \n",
       "\n",
       "             0         1  pseudo_gt  \n",
       "29    0.502284  0.497716          0  \n",
       "42    0.502572  0.497428          0  \n",
       "61    0.500048  0.499952          0  \n",
       "172   0.500368  0.499632          0  \n",
       "490   0.502438  0.497562          0  \n",
       "...        ...       ...        ...  \n",
       "6770  0.505710  0.494290          0  \n",
       "6820  0.502426  0.497574          0  \n",
       "6830  0.502331  0.497669          0  \n",
       "6865  0.505557  0.494443          0  \n",
       "6931  0.501310  0.498690          0  \n",
       "\n",
       "[101 rows x 6 columns]"
      ]
     },
     "execution_count": 9,
     "metadata": {},
     "output_type": "execute_result"
    }
   ],
   "source": [
    "# cases where pseudo_gt != label\n",
    "pseudo_wrong= df[df['pseudo_gt'] != df['label']]\n",
    "pseudo_wrong"
   ]
  },
  {
   "cell_type": "code",
   "execution_count": 35,
   "metadata": {},
   "outputs": [
    {
     "name": "stdout",
     "output_type": "stream",
     "text": [
      "1    101\n",
      "Name: label, dtype: int64\n"
     ]
    }
   ],
   "source": [
    "# count of label 0 and 1 in pseudo_wrong\n",
    "print(pseudo_wrong['label'].value_counts())"
   ]
  },
  {
   "cell_type": "code",
   "execution_count": 42,
   "metadata": {},
   "outputs": [
    {
     "name": "stdout",
     "output_type": "stream",
     "text": [
      "0    0.505714\n",
      "1    0.494286\n",
      "Name: label, dtype: float64\n"
     ]
    }
   ],
   "source": [
    "# count of label 0 and 1 in entire data\n",
    "print(df['label'].value_counts()/7000)"
   ]
  },
  {
   "cell_type": "code",
   "execution_count": 43,
   "metadata": {},
   "outputs": [
    {
     "name": "stdout",
     "output_type": "stream",
     "text": [
      "0    3641\n",
      "1    3359\n",
      "Name: pseudo_gt, dtype: int64\n",
      "0    0.520143\n",
      "1    0.479857\n",
      "Name: pseudo_gt, dtype: float64\n"
     ]
    }
   ],
   "source": [
    "# count of label 0 and 1 in entire data\n",
    "print(df['pseudo_gt'].value_counts())\n",
    "print(df['pseudo_gt'].value_counts()/7000)"
   ]
  },
  {
   "cell_type": "code",
   "execution_count": 36,
   "metadata": {},
   "outputs": [
    {
     "name": "stdout",
     "output_type": "stream",
     "text": [
      "AxesSubplot(0.125,0.125;0.775x0.755)\n",
      "AxesSubplot(0.125,0.125;0.775x0.755)\n"
     ]
    },
    {
     "data": {
      "image/png": "[encoded data removed]",
      "text/plain": [
       "<Figure size 432x288 with 1 Axes>"
      ]
     },
     "metadata": {
      "needs_background": "light"
     },
     "output_type": "display_data"
    }
   ],
   "source": [
    "# overrall distribution of label 0 and 1 probabilities, set opacity to 0.5\n",
    "print(pseudo_wrong['0'].hist(bins=50, alpha=0.7))\n",
    "print(pseudo_wrong['1'].hist(bins=50, alpha=0.7))\n",
    "# add legend\n",
    "plt.legend(['0:subjective','1:objective'])\n",
    "plt.title(\"Distribution of probabilities for Wrong Pseudo-gt Labels\")\n",
    "plt.show()\n"
   ]
  },
  {
   "cell_type": "code",
   "execution_count": 15,
   "metadata": {},
   "outputs": [
    {
     "data": {
      "text/html": [
       "<div>\n",
       "<style scoped>\n",
       "    .dataframe tbody tr th:only-of-type {\n",
       "        vertical-align: middle;\n",
       "    }\n",
       "\n",
       "    .dataframe tbody tr th {\n",
       "        vertical-align: top;\n",
       "    }\n",
       "\n",
       "    .dataframe thead th {\n",
       "        text-align: right;\n",
       "    }\n",
       "</style>\n",
       "<table border=\"1\" class=\"dataframe\">\n",
       "  <thead>\n",
       "    <tr style=\"text-align: right;\">\n",
       "      <th></th>\n",
       "      <th>text</th>\n",
       "      <th>label</th>\n",
       "      <th>label_text</th>\n",
       "      <th>0</th>\n",
       "      <th>1</th>\n",
       "      <th>pseudo_gt</th>\n",
       "    </tr>\n",
       "  </thead>\n",
       "  <tbody>\n",
       "    <tr>\n",
       "      <th>0</th>\n",
       "      <td>the mystery of enigma is how a rich historical...</td>\n",
       "      <td>0</td>\n",
       "      <td>subjective</td>\n",
       "      <td>0.519648</td>\n",
       "      <td>0.480352</td>\n",
       "      <td>0</td>\n",
       "    </tr>\n",
       "    <tr>\n",
       "      <th>1</th>\n",
       "      <td>bernal's transformation from naive priest to t...</td>\n",
       "      <td>0</td>\n",
       "      <td>subjective</td>\n",
       "      <td>0.531106</td>\n",
       "      <td>0.468894</td>\n",
       "      <td>0</td>\n",
       "    </tr>\n",
       "    <tr>\n",
       "      <th>2</th>\n",
       "      <td>if [jaglom's] latest effort is not the directo...</td>\n",
       "      <td>0</td>\n",
       "      <td>subjective</td>\n",
       "      <td>0.519456</td>\n",
       "      <td>0.480544</td>\n",
       "      <td>0</td>\n",
       "    </tr>\n",
       "    <tr>\n",
       "      <th>3</th>\n",
       "      <td>this movie is maddening . it conveys a simple ...</td>\n",
       "      <td>0</td>\n",
       "      <td>subjective</td>\n",
       "      <td>0.527671</td>\n",
       "      <td>0.472329</td>\n",
       "      <td>0</td>\n",
       "    </tr>\n",
       "    <tr>\n",
       "      <th>4</th>\n",
       "      <td>in her confusion and grief , she finds consola...</td>\n",
       "      <td>1</td>\n",
       "      <td>objective</td>\n",
       "      <td>0.493912</td>\n",
       "      <td>0.506088</td>\n",
       "      <td>1</td>\n",
       "    </tr>\n",
       "    <tr>\n",
       "      <th>...</th>\n",
       "      <td>...</td>\n",
       "      <td>...</td>\n",
       "      <td>...</td>\n",
       "      <td>...</td>\n",
       "      <td>...</td>\n",
       "      <td>...</td>\n",
       "    </tr>\n",
       "    <tr>\n",
       "      <th>6995</th>\n",
       "      <td>if you're as happy listening to movies as you ...</td>\n",
       "      <td>0</td>\n",
       "      <td>subjective</td>\n",
       "      <td>0.520270</td>\n",
       "      <td>0.479730</td>\n",
       "      <td>0</td>\n",
       "    </tr>\n",
       "    <tr>\n",
       "      <th>6996</th>\n",
       "      <td>'divertida , enternecedora , universal y profu...</td>\n",
       "      <td>0</td>\n",
       "      <td>subjective</td>\n",
       "      <td>0.514480</td>\n",
       "      <td>0.485520</td>\n",
       "      <td>0</td>\n",
       "    </tr>\n",
       "    <tr>\n",
       "      <th>6997</th>\n",
       "      <td>in the end , the film is less the cheap thrill...</td>\n",
       "      <td>0</td>\n",
       "      <td>subjective</td>\n",
       "      <td>0.514250</td>\n",
       "      <td>0.485750</td>\n",
       "      <td>0</td>\n",
       "    </tr>\n",
       "    <tr>\n",
       "      <th>6998</th>\n",
       "      <td>death to smoochy tells a moldy-oldie , not-nea...</td>\n",
       "      <td>0</td>\n",
       "      <td>subjective</td>\n",
       "      <td>0.521340</td>\n",
       "      <td>0.478660</td>\n",
       "      <td>0</td>\n",
       "    </tr>\n",
       "    <tr>\n",
       "      <th>6999</th>\n",
       "      <td>charly comes off as emotionally manipulative a...</td>\n",
       "      <td>0</td>\n",
       "      <td>subjective</td>\n",
       "      <td>0.538287</td>\n",
       "      <td>0.461713</td>\n",
       "      <td>0</td>\n",
       "    </tr>\n",
       "  </tbody>\n",
       "</table>\n",
       "<p>7000 rows × 6 columns</p>\n",
       "</div>"
      ],
      "text/plain": [
       "                                                   text  label  label_text  \\\n",
       "0     the mystery of enigma is how a rich historical...      0  subjective   \n",
       "1     bernal's transformation from naive priest to t...      0  subjective   \n",
       "2     if [jaglom's] latest effort is not the directo...      0  subjective   \n",
       "3     this movie is maddening . it conveys a simple ...      0  subjective   \n",
       "4     in her confusion and grief , she finds consola...      1   objective   \n",
       "...                                                 ...    ...         ...   \n",
       "6995  if you're as happy listening to movies as you ...      0  subjective   \n",
       "6996  'divertida , enternecedora , universal y profu...      0  subjective   \n",
       "6997  in the end , the film is less the cheap thrill...      0  subjective   \n",
       "6998  death to smoochy tells a moldy-oldie , not-nea...      0  subjective   \n",
       "6999  charly comes off as emotionally manipulative a...      0  subjective   \n",
       "\n",
       "             0         1  pseudo_gt  \n",
       "0     0.519648  0.480352          0  \n",
       "1     0.531106  0.468894          0  \n",
       "2     0.519456  0.480544          0  \n",
       "3     0.527671  0.472329          0  \n",
       "4     0.493912  0.506088          1  \n",
       "...        ...       ...        ...  \n",
       "6995  0.520270  0.479730          0  \n",
       "6996  0.514480  0.485520          0  \n",
       "6997  0.514250  0.485750          0  \n",
       "6998  0.521340  0.478660          0  \n",
       "6999  0.538287  0.461713          0  \n",
       "\n",
       "[7000 rows x 6 columns]"
      ]
     },
     "execution_count": 15,
     "metadata": {},
     "output_type": "execute_result"
    }
   ],
   "source": [
    "df"
   ]
  },
  {
   "cell_type": "code",
   "execution_count": 40,
   "metadata": {},
   "outputs": [
    {
     "data": {
      "text/plain": [
       "([<matplotlib.axis.XTick at 0x7f9c6409c050>,\n",
       "  <matplotlib.axis.XTick at 0x7f9c64290390>],\n",
       " [Text(1, 0, '0'), Text(2, 0, '1')])"
      ]
     },
     "execution_count": 40,
     "metadata": {},
     "output_type": "execute_result"
    },
    {
     "data": {
      "image/png": "[encoded data removed]",
      "text/plain": [
       "<Figure size 432x288 with 1 Axes>"
      ]
     },
     "metadata": {
      "needs_background": "light"
     },
     "output_type": "display_data"
    }
   ],
   "source": [
    "# box plot for pseudo_gt probability\n",
    "plt.boxplot([df['0'], df['1']])\n",
    "plt.title(\"Probability of each label\")\n",
    "plt.xticks([1, 2], ['0', '1'])"
   ]
  },
  {
   "cell_type": "code",
   "execution_count": 25,
   "metadata": {},
   "outputs": [
    {
     "data": {
      "image/png": "[encoded data removed]",
      "text/plain": [
       "<Figure size 720x720 with 2 Axes>"
      ]
     },
     "metadata": {
      "needs_background": "light"
     },
     "output_type": "display_data"
    }
   ],
   "source": [
    "# box plot of each '0' and '1' probability for each pseudo_gt label\n",
    "plt.figure(figsize=(10,10))\n",
    "\n",
    "plt.subplot(2,2,1)\n",
    "plt.boxplot([df.loc[df['pseudo_gt'] == 0]['0'], df.loc[df['pseudo_gt'] == 1]['0']])\n",
    "plt.xticks([1, 2], ['0', '1'])\n",
    "plt.title('pseudo_gt=0')\n",
    "\n",
    "plt.subplot(2,2,2)\n",
    "plt.boxplot([df.loc[df['pseudo_gt'] == 0]['1'], df.loc[df['pseudo_gt'] == 1]['1']])\n",
    "plt.xticks([1, 2], ['0', '1'])\n",
    "plt.title('pseudo_gt=1')\n",
    "\n",
    "plt.show()"
   ]
  },
  {
   "cell_type": "code",
   "execution_count": null,
   "metadata": {},
   "outputs": [],
   "source": []
  }
 ],
 "metadata": {
  "kernelspec": {
   "display_name": "yooni",
   "language": "python",
   "name": "yooni"
  },
  "language_info": {
   "codemirror_mode": {
    "name": "ipython",
    "version": 3
   },
   "file_extension": ".py",
   "mimetype": "text/x-python",
   "name": "python",
   "nbconvert_exporter": "python",
   "pygments_lexer": "ipython3",
   "version": "3.7.13"
  }
 },
 "nbformat": 4,
 "nbformat_minor": 2
}
