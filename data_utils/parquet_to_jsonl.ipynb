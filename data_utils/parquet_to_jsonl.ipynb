{
 "cells": [
  {
   "cell_type": "code",
   "execution_count": 10,
   "id": "05ed0c91-47b7-4c99-b61e-92fd57933be5",
   "metadata": {},
   "outputs": [
    {
     "name": "stdout",
     "output_type": "stream",
     "text": [
      "Looking in indexes: https://pypi.org/simple, https://pypi.ngc.nvidia.com\n",
      "Requirement already satisfied: pandas in /usr/local/lib/python3.10/dist-packages (2.2.1)\n",
      "Requirement already satisfied: pyarrow in /usr/local/lib/python3.10/dist-packages (15.0.1)\n",
      "Requirement already satisfied: scikit-learn in /usr/local/lib/python3.10/dist-packages (1.4.1.post1)\n",
      "Requirement already satisfied: numpy<2,>=1.22.4 in /usr/local/lib/python3.10/dist-packages (from pandas) (1.24.4)\n",
      "Requirement already satisfied: python-dateutil>=2.8.2 in /usr/local/lib/python3.10/dist-packages (from pandas) (2.9.0.post0)\n",
      "Requirement already satisfied: pytz>=2020.1 in /usr/local/lib/python3.10/dist-packages (from pandas) (2024.1)\n",
      "Requirement already satisfied: tzdata>=2022.7 in /usr/local/lib/python3.10/dist-packages (from pandas) (2024.1)\n",
      "Requirement already satisfied: scipy>=1.6.0 in /usr/local/lib/python3.10/dist-packages (from scikit-learn) (1.12.0)\n",
      "Requirement already satisfied: joblib>=1.2.0 in /usr/local/lib/python3.10/dist-packages (from scikit-learn) (1.3.2)\n",
      "Requirement already satisfied: threadpoolctl>=2.0.0 in /usr/local/lib/python3.10/dist-packages (from scikit-learn) (3.3.0)\n",
      "Requirement already satisfied: six>=1.5 in /usr/local/lib/python3.10/dist-packages (from python-dateutil>=2.8.2->pandas) (1.16.0)\n",
      "\u001b[33mWARNING: Running pip as the 'root' user can result in broken permissions and conflicting behaviour with the system package manager. It is recommended to use a virtual environment instead: https://pip.pypa.io/warnings/venv\u001b[0m\u001b[33m\n",
      "\u001b[0m"
     ]
    }
   ],
   "source": [
    "!pip install pandas pyarrow scikit-learn"
   ]
  },
  {
   "cell_type": "code",
   "execution_count": 11,
   "id": "4be109bf-f9cd-4d23-b5b2-c3018c241c04",
   "metadata": {},
   "outputs": [],
   "source": [
    "from sklearn.model_selection import train_test_split\n",
    "import pandas as pd\n",
    "import glob\n",
    "\n",
    "def parquet_to_jsonl(parquet_files_pattern, jsonl_file_path, split=False, splitted_output_path=None):\n",
    "    # Use glob to find all files matching the pattern\n",
    "    parquet_files = glob.glob(parquet_files_pattern)\n",
    "\n",
    "    # Initialize an empty DataFrame\n",
    "    combined_df = pd.DataFrame()\n",
    "\n",
    "    # Iterate through each file and append to the DataFrame\n",
    "    for file in parquet_files:\n",
    "        df = pd.read_parquet(file)\n",
    "        combined_df = pd.concat([combined_df, df], ignore_index=True)\n",
    "\n",
    "    # Convert the combined DataFrame to JSON Lines and write to a file\n",
    "    if split:\n",
    "        df, splitted_df = train_test_split(combined_df, test_size=0.1, random_state=42)\n",
    "        df.to_json(jsonl_file_path, orient='records', lines=True)\n",
    "        splitted_df.to_json(splitted_output_path, orient='records', lines=True)\n",
    "    else:\n",
    "        combined_df.to_json(jsonl_file_path, orient='records', lines=True)"
   ]
  },
  {
   "cell_type": "code",
   "execution_count": 12,
   "id": "eb091340-5089-4686-a32d-e1414494ad8f",
   "metadata": {},
   "outputs": [],
   "source": [
    "# Example usage\n",
    "parquet_files_pattern = '../data/agnews/train-*.parquet'\n",
    "jsonl_file_path = 'train.jsonl'\n",
    "splitted_output_path = 'valid.jsonl'\n",
    "parquet_to_jsonl(parquet_files_pattern, jsonl_file_path, split=True, splitted_output_path=splitted_output_path)"
   ]
  },
  {
   "cell_type": "code",
   "execution_count": 13,
   "id": "41abe07d-1114-4082-87f4-21996f1b29b6",
   "metadata": {},
   "outputs": [],
   "source": [
    "# Example usage\n",
    "parquet_files_pattern = '../data/agnews/test-*.parquet'\n",
    "jsonl_file_path = 'test.jsonl'\n",
    "parquet_to_jsonl(parquet_files_pattern, jsonl_file_path)"
   ]
  },
  {
   "cell_type": "code",
   "execution_count": 15,
   "id": "4508cd83-1a1d-449d-b3c2-335de3310dad",
   "metadata": {},
   "outputs": [],
   "source": [
    "from datasets import Dataset, DatasetDict, load_dataset"
   ]
  },
  {
   "cell_type": "code",
   "execution_count": 19,
   "id": "6b73ca1a-b070-464e-a808-02c693dc661b",
   "metadata": {},
   "outputs": [
    {
     "name": "stderr",
     "output_type": "stream",
     "text": [
      "Generating train split: 108000 examples [00:00, 1955859.28 examples/s]\n",
      "Generating valid split: 12000 examples [00:00, 1731156.63 examples/s]\n",
      "Generating test split: 7600 examples [00:00, 1353690.78 examples/s]\n"
     ]
    }
   ],
   "source": [
    "dataset = load_dataset(\"json\", data_files={\"train\":\"train.jsonl\", \"valid\":\"valid.jsonl\", \"test\": \"test.jsonl\"})"
   ]
  },
  {
   "cell_type": "code",
   "execution_count": 29,
   "id": "6b7cbbed-918c-4874-8ad8-60b466ae5690",
   "metadata": {},
   "outputs": [
    {
     "name": "stderr",
     "output_type": "stream",
     "text": [
      "Uploading the dataset shards:   0%|          | 0/1 [00:00<?, ?it/s]\n",
      "Creating parquet from Arrow format:   0%|          | 0/108 [00:00<?, ?ba/s]\u001b[A\n",
      "Creating parquet from Arrow format: 100%|██████████| 108/108 [00:00<00:00, 877.72ba/s][A\n",
      "Uploading the dataset shards: 100%|██████████| 1/1 [00:04<00:00,  4.88s/it]\n",
      "Uploading the dataset shards:   0%|          | 0/1 [00:00<?, ?it/s]\n",
      "Creating parquet from Arrow format: 100%|██████████| 12/12 [00:00<00:00, 827.80ba/s]\n",
      "Uploading the dataset shards: 100%|██████████| 1/1 [00:02<00:00,  2.09s/it]\n",
      "Uploading the dataset shards:   0%|          | 0/1 [00:00<?, ?it/s]\n",
      "Creating parquet from Arrow format: 100%|██████████| 8/8 [00:00<00:00, 880.69ba/s]\n",
      "Uploading the dataset shards: 100%|██████████| 1/1 [00:02<00:00,  2.00s/it]\n"
     ]
    },
    {
     "data": {
      "text/plain": [
       "CommitInfo(commit_url='https://huggingface.co/datasets/ICKD/agnews/commit/428a388be4f3792fd724314d662071152990fb7f', commit_message='Upload dataset', commit_description='', oid='428a388be4f3792fd724314d662071152990fb7f', pr_url=None, pr_revision=None, pr_num=None)"
      ]
     },
     "execution_count": 29,
     "metadata": {},
     "output_type": "execute_result"
    }
   ],
   "source": [
    "dataset.push_to_hub(\"ICKD/agnews\")"
   ]
  },
  {
   "cell_type": "code",
   "execution_count": null,
   "id": "27a9e345-77b4-482d-bd55-85a8db422bd2",
   "metadata": {},
   "outputs": [],
   "source": []
  }
 ],
 "metadata": {
  "kernelspec": {
   "display_name": "Python 3 (ipykernel)",
   "language": "python",
   "name": "python3"
  },
  "language_info": {
   "codemirror_mode": {
    "name": "ipython",
    "version": 3
   },
   "file_extension": ".py",
   "mimetype": "text/x-python",
   "name": "python",
   "nbconvert_exporter": "python",
   "pygments_lexer": "ipython3",
   "version": "3.10.12"
  }
 },
 "nbformat": 4,
 "nbformat_minor": 5
}
