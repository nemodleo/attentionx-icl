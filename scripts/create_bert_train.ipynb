{
 "cells": [
  {
   "cell_type": "code",
   "execution_count": 15,
   "id": "e8de22a3-3573-4d0b-90d7-e74229349a10",
   "metadata": {},
   "outputs": [],
   "source": [
    "from transformers import BertForSequenceClassification, AutoTokenizer\n",
    "import torch\n",
    "import torch.nn.functional as F\n",
    "import numpy as np\n",
    "from tqdm import tqdm\n",
    "import json"
   ]
  },
  {
   "cell_type": "code",
   "execution_count": 10,
   "id": "8e0439f5-eb63-4066-bc2b-09b8c8ad46d4",
   "metadata": {},
   "outputs": [],
   "source": [
    "data_path=\"../data/yelpreview/train_tiny_new.jsonl\"\n",
    "output_path=\"../data/yelpreview/train_tiny_bert.jsonl\""
   ]
  },
  {
   "cell_type": "code",
   "execution_count": 27,
   "id": "381fedbe-f29c-4f3d-80f4-d1f5fecc25b9",
   "metadata": {},
   "outputs": [],
   "source": [
    "def bert_train(data_path, output_path, pretrained_model):\n",
    "    bertmodel = BertForSequenceClassification.from_pretrained(pretrained_model).cuda()\n",
    "    tkn = AutoTokenizer.from_pretrained(pretrained_model)\n",
    "\n",
    "    data = []\n",
    "    with open(data_path, \"r\") as f:\n",
    "        while line:=f.readline():\n",
    "            data.append(json.loads(line))\n",
    "\n",
    "    for item in tqdm(data):\n",
    "        text = item[\"text\"]\n",
    "        tokenized = tkn([text], truncation=True)\n",
    "        tokenized = {k: torch.tensor(tokenized[k]).cuda() for k in tokenized.keys()}\n",
    "        probs = F.softmax(bertmodel(tokenized[\"input_ids\"]).logits, dim=-1)\n",
    "        item[\"pseudo_gt\"] = torch.argmax(probs[0]).item()\n",
    "        for i in range(5):\n",
    "            item[str(i)] = probs[0][i].item()\n",
    "    \n",
    "    with open(output_path, \"w\") as f:\n",
    "        for row in data:\n",
    "            f.write(json.dumps(row)+\"\\n\")\n",
    "    \n",
    "    return"
   ]
  },
  {
   "cell_type": "code",
   "execution_count": 28,
   "id": "f912aab3-9559-40c7-9982-81fbb48da093",
   "metadata": {},
   "outputs": [
    {
     "name": "stderr",
     "output_type": "stream",
     "text": [
      "100%|██████████| 13000/13000 [02:04<00:00, 104.81it/s]\n"
     ]
    }
   ],
   "source": [
    "bert_train(data_path, output_path, \"rttl-ai/bert-base-uncased-yelp-reviews\")"
   ]
  },
  {
   "cell_type": "code",
   "execution_count": null,
   "id": "2c184d19-bfcc-4f31-9b3a-155b23bff02e",
   "metadata": {},
   "outputs": [],
   "source": []
  }
 ],
 "metadata": {
  "kernelspec": {
   "display_name": "Python 3 (ipykernel)",
   "language": "python",
   "name": "python3"
  },
  "language_info": {
   "codemirror_mode": {
    "name": "ipython",
    "version": 3
   },
   "file_extension": ".py",
   "mimetype": "text/x-python",
   "name": "python",
   "nbconvert_exporter": "python",
   "pygments_lexer": "ipython3",
   "version": "3.10.12"
  }
 },
 "nbformat": 4,
 "nbformat_minor": 5
}
