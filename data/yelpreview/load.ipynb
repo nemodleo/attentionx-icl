{
 "cells": [
  {
   "cell_type": "code",
   "execution_count": 9,
   "metadata": {},
   "outputs": [],
   "source": [
    "import pandas as pd\n",
    "\n",
    "# download parquet from https://huggingface.co/datasets/yelp_review_full/viewer\n",
    "train = pd.read_parquet(\"/Users/yooni/Desktop/yelp-train.parquet\", engine=\"fastparquet\")\n",
    "test = pd.read_parquet(\"/Users/yooni/Desktop/yelp-test.parquet\", engine=\"fastparquet\")"
   ]
  },
  {
   "cell_type": "code",
   "execution_count": 1,
   "metadata": {},
   "outputs": [
    {
     "name": "stdout",
     "output_type": "stream",
     "text": [
      "/Users/yooni/Desktop/AttentionX/ICL/attentionx-icl/data/yelpreview\n"
     ]
    }
   ],
   "source": [
    "!pwd"
   ]
  },
  {
   "cell_type": "code",
   "execution_count": 13,
   "metadata": {},
   "outputs": [],
   "source": [
    "# convert dataframe to jsonl. each row is a json object with the column names as keys\n",
    "train.to_json(\"train.jsonl\", orient=\"records\", lines=True)\n",
    "test.to_json(\"test.jsonl\", orient=\"records\", lines=True)"
   ]
  },
  {
   "cell_type": "code",
   "execution_count": null,
   "metadata": {},
   "outputs": [],
   "source": []
  }
 ],
 "metadata": {
  "kernelspec": {
   "display_name": "yooni",
   "language": "python",
   "name": "yooni"
  },
  "language_info": {
   "codemirror_mode": {
    "name": "ipython",
    "version": 3
   },
   "file_extension": ".py",
   "mimetype": "text/x-python",
   "name": "python",
   "nbconvert_exporter": "python",
   "pygments_lexer": "ipython3",
   "version": "3.7.13"
  }
 },
 "nbformat": 4,
 "nbformat_minor": 2
}
