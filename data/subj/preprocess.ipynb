{
 "cells": [
  {
   "cell_type": "code",
   "execution_count": 1,
   "metadata": {},
   "outputs": [],
   "source": [
    "import json\n",
    "import random"
   ]
  },
  {
   "cell_type": "code",
   "execution_count": 22,
   "metadata": {},
   "outputs": [],
   "source": [
    "def read_file(file_path, label):\n",
    "    with open(file_path, 'r', encoding='latin1') as f:\n",
    "        lines = f.readlines()\n",
    "    return [{'text': line.strip(), 'label': label} for line in lines]"
   ]
  },
  {
   "cell_type": "code",
   "execution_count": 23,
   "metadata": {},
   "outputs": [],
   "source": [
    "# SUBJ downloaded from https://www.cs.cornell.edu/people/pabo/movie-review-data/\n",
    "obj = read_file('/Users/yooni/Desktop/rotten_imdb/plot.tok.gt9.5000', 'objective')\n",
    "subj = read_file('/Users/yooni/Desktop/rotten_imdb/quote.tok.gt9.5000', 'subjective')"
   ]
  },
  {
   "cell_type": "code",
   "execution_count": 25,
   "metadata": {},
   "outputs": [],
   "source": [
    "data = obj + subj"
   ]
  },
  {
   "cell_type": "code",
   "execution_count": 27,
   "metadata": {},
   "outputs": [],
   "source": [
    "random.shuffle(data)"
   ]
  },
  {
   "cell_type": "code",
   "execution_count": 29,
   "metadata": {},
   "outputs": [],
   "source": [
    "tot = len(data)\n",
    "train_size = int(tot * 0.7)\n",
    "dev_size = int(tot * 0.1)\n",
    "\n",
    "train_data = data[:train_size]\n",
    "dev_data = data[train_size:train_size+dev_size]\n",
    "test_data = data[train_size+dev_size:]"
   ]
  },
  {
   "cell_type": "code",
   "execution_count": 37,
   "metadata": {},
   "outputs": [],
   "source": [
    "def write_jsonl(path, data):\n",
    "    with open(path, 'w') as f:\n",
    "        for line in data:\n",
    "            f.write(json.dumps(line) + '\\n')"
   ]
  },
  {
   "cell_type": "code",
   "execution_count": 38,
   "metadata": {},
   "outputs": [],
   "source": [
    "write_jsonl('train.jsonl', train_data)\n",
    "write_jsonl('dev.jsonl', dev_data)\n",
    "write_jsonl('test.jsonl', test_data)"
   ]
  },
  {
   "cell_type": "code",
   "execution_count": null,
   "metadata": {},
   "outputs": [],
   "source": []
  }
 ],
 "metadata": {
  "kernelspec": {
   "display_name": "yooni",
   "language": "python",
   "name": "yooni"
  },
  "language_info": {
   "codemirror_mode": {
    "name": "ipython",
    "version": 3
   },
   "file_extension": ".py",
   "mimetype": "text/x-python",
   "name": "python",
   "nbconvert_exporter": "python",
   "pygments_lexer": "ipython3",
   "version": "3.7.13"
  }
 },
 "nbformat": 4,
 "nbformat_minor": 2
}
